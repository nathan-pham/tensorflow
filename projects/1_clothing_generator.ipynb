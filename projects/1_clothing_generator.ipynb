{
 "cells": [
  {
   "cell_type": "markdown",
   "metadata": {},
   "source": [
    "# Clothing Generator"
   ]
  },
  {
   "cell_type": "markdown",
   "metadata": {},
   "source": [
    "## 1. Import Libraries"
   ]
  },
  {
   "cell_type": "code",
   "execution_count": 2,
   "metadata": {},
   "outputs": [],
   "source": [
    "import matplotlib.pyplot as plt\n",
    "import tensorflow as tf\n",
    "import numpy as np"
   ]
  },
  {
   "cell_type": "code",
   "execution_count": 3,
   "metadata": {},
   "outputs": [
    {
     "data": {
      "text/plain": [
       "'2.9.1'"
      ]
     },
     "execution_count": 3,
     "metadata": {},
     "output_type": "execute_result"
    }
   ],
   "source": [
    "tf.__version__"
   ]
  },
  {
   "cell_type": "markdown",
   "metadata": {},
   "source": [
    "### 1.1 Limit Tensorflow\n",
    "Sometimes Tensorflow can consume too much VRAM and you need to limit the library's consumption"
   ]
  },
  {
   "cell_type": "code",
   "execution_count": 4,
   "metadata": {},
   "outputs": [
    {
     "name": "stdout",
     "output_type": "stream",
     "text": [
      "PhysicalDevice(name='/physical_device:GPU:0', device_type='GPU')\n"
     ]
    }
   ],
   "source": [
    "gpus = tf.config.list_physical_devices(\"GPU\")\n",
    "for gpu in gpus:\n",
    "    tf.config.experimental.set_memory_growth(gpu, True)\n",
    "    print(gpu)"
   ]
  },
  {
   "cell_type": "code",
   "execution_count": 5,
   "metadata": {},
   "outputs": [],
   "source": [
    "tf.config.run_functions_eagerly(True)"
   ]
  },
  {
   "cell_type": "markdown",
   "metadata": {},
   "source": [
    "## 2. Import Dataset"
   ]
  },
  {
   "cell_type": "code",
   "execution_count": 6,
   "metadata": {},
   "outputs": [],
   "source": [
    "(X_train, y_train), (X_test, y_test) = tf.keras.datasets.fashion_mnist.load_data()"
   ]
  },
  {
   "cell_type": "code",
   "execution_count": 7,
   "metadata": {},
   "outputs": [],
   "source": [
    "# Recombine datasets\n",
    "# could also use tf.data.Dataset.map(...) to normalize\n",
    "X = np.concatenate((X_train, X_test)).astype(\"float32\")\n",
    "y = np.concatenate((y_train, y_test))"
   ]
  },
  {
   "cell_type": "code",
   "execution_count": 8,
   "metadata": {},
   "outputs": [],
   "source": [
    "class_names = [\"T-shirt\", \"Trouser\", \"Pullover\", \"Dress\", \"Coat\",\n",
    "               \"Sandal\", \"Shirt\", \"Sneaker\", \"Bag\", \"Ankle boot\"]"
   ]
  },
  {
   "cell_type": "markdown",
   "metadata": {},
   "source": [
    "### 2.1 Shuffle Dataset"
   ]
  },
  {
   "cell_type": "code",
   "execution_count": 9,
   "metadata": {},
   "outputs": [],
   "source": [
    "def scale_image(image, label):\n",
    "    return image / 255.0"
   ]
  },
  {
   "cell_type": "code",
   "execution_count": 10,
   "metadata": {},
   "outputs": [
    {
     "name": "stderr",
     "output_type": "stream",
     "text": [
      "c:\\ProgramData\\Anaconda3\\lib\\site-packages\\tensorflow\\python\\data\\ops\\structured_function.py:264: UserWarning: Even though the `tf.config.experimental_run_functions_eagerly` option is set, this option does not apply to tf.data functions. To force eager execution of tf.data functions, please use `tf.data.experimental.enable_debug_mode()`.\n",
      "  warnings.warn(\n"
     ]
    }
   ],
   "source": [
    "ds = tf.data.Dataset.from_tensor_slices((X, y)).shuffle(10000).batch(64)\n",
    "ds_scaled = ds.map(scale_image)"
   ]
  },
  {
   "cell_type": "markdown",
   "metadata": {},
   "source": [
    "### 2.2 Visualize Dataset"
   ]
  },
  {
   "cell_type": "code",
   "execution_count": 11,
   "metadata": {},
   "outputs": [
    {
     "data": {
      "image/png": "[encoded data removed]",
      "text/plain": [
       "<Figure size 1440x1440 with 10 Axes>"
      ]
     },
     "metadata": {
      "needs_background": "light"
     },
     "output_type": "display_data"
    }
   ],
   "source": [
    "batch = ds.as_numpy_iterator().next()\n",
    "\n",
    "fig, ax = plt.subplots(ncols=10, figsize=(20, 20))\n",
    "for i in range(10):\n",
    "    ax[i].set_title(class_names[batch[1][i]])\n",
    "    ax[i].imshow(batch[0][i])\n",
    "    ax[i].axis(\"off\")"
   ]
  },
  {
   "cell_type": "markdown",
   "metadata": {},
   "source": [
    "## 3. Build GAN"
   ]
  },
  {
   "cell_type": "markdown",
   "metadata": {},
   "source": [
    "### 3.1 Import Model Components"
   ]
  },
  {
   "cell_type": "code",
   "execution_count": 12,
   "metadata": {},
   "outputs": [],
   "source": [
    "from tensorflow.keras.models import Sequential\n",
    "from tensorflow.keras import layers"
   ]
  },
  {
   "cell_type": "markdown",
   "metadata": {},
   "source": [
    "### 3.2 Create Generator"
   ]
  },
  {
   "cell_type": "code",
   "execution_count": 13,
   "metadata": {},
   "outputs": [],
   "source": [
    "build_generator = lambda : Sequential([\n",
    "    # Random input values are reshaped to 7 x 7 x 128\n",
    "    layers.Dense(7 * 7 * 128, input_dim=128),\n",
    "    layers.LeakyReLU(0.2),\n",
    "    layers.Reshape((7, 7, 128)),\n",
    "\n",
    "    # Upsampling block (expands input)\n",
    "    layers.UpSampling2D(),\n",
    "    layers.Conv2D(128, 5, padding=\"same\"),\n",
    "    layers.LeakyReLU(0.2),\n",
    "\n",
    "    # Upsampling block\n",
    "    layers.UpSampling2D(),\n",
    "    layers.Conv2D(128, 5, padding=\"same\"),\n",
    "    layers.LeakyReLU(0.2),\n",
    "\n",
    "    # Convolutional Block\n",
    "    layers.Conv2D(128, 4, padding=\"same\"),\n",
    "    layers.LeakyReLU(0.2),\n",
    "\n",
    "    # Convolutional Block\n",
    "    layers.Conv2D(128, 4, padding=\"same\"),\n",
    "    layers.LeakyReLU(0.2),\n",
    "\n",
    "    layers.Conv2D(1, 4, padding=\"same\", activation=\"sigmoid\")\n",
    "])"
   ]
  },
  {
   "cell_type": "code",
   "execution_count": 14,
   "metadata": {},
   "outputs": [
    {
     "name": "stdout",
     "output_type": "stream",
     "text": [
      "Model: \"sequential\"\n",
      "_________________________________________________________________\n",
      " Layer (type)                Output Shape              Param #   \n",
      "=================================================================\n",
      " dense (Dense)               (None, 6272)              809088    \n",
      "                                                                 \n",
      " leaky_re_lu (LeakyReLU)     (None, 6272)              0         \n",
      "                                                                 \n",
      " reshape (Reshape)           (None, 7, 7, 128)         0         \n",
      "                                                                 \n",
      " up_sampling2d (UpSampling2D  (None, 14, 14, 128)      0         \n",
      " )                                                               \n",
      "                                                                 \n",
      " conv2d (Conv2D)             (None, 14, 14, 128)       409728    \n",
      "                                                                 \n",
      " leaky_re_lu_1 (LeakyReLU)   (None, 14, 14, 128)       0         \n",
      "                                                                 \n",
      " up_sampling2d_1 (UpSampling  (None, 28, 28, 128)      0         \n",
      " 2D)                                                             \n",
      "                                                                 \n",
      " conv2d_1 (Conv2D)           (None, 28, 28, 128)       409728    \n",
      "                                                                 \n",
      " leaky_re_lu_2 (LeakyReLU)   (None, 28, 28, 128)       0         \n",
      "                                                                 \n",
      " conv2d_2 (Conv2D)           (None, 28, 28, 128)       262272    \n",
      "                                                                 \n",
      " leaky_re_lu_3 (LeakyReLU)   (None, 28, 28, 128)       0         \n",
      "                                                                 \n",
      " conv2d_3 (Conv2D)           (None, 28, 28, 128)       262272    \n",
      "                                                                 \n",
      " leaky_re_lu_4 (LeakyReLU)   (None, 28, 28, 128)       0         \n",
      "                                                                 \n",
      " conv2d_4 (Conv2D)           (None, 28, 28, 1)         2049      \n",
      "                                                                 \n",
      "=================================================================\n",
      "Total params: 2,155,137\n",
      "Trainable params: 2,155,137\n",
      "Non-trainable params: 0\n",
      "_________________________________________________________________\n"
     ]
    }
   ],
   "source": [
    "generator = build_generator()\n",
    "generator.summary()"
   ]
  },
  {
   "cell_type": "code",
   "execution_count": 15,
   "metadata": {},
   "outputs": [
    {
     "name": "stdout",
     "output_type": "stream",
     "text": [
      "1/1 [==============================] - 3s 3s/step\n"
     ]
    }
   ],
   "source": [
    "images = generator.predict(np.random.randn(4, 128, 1))"
   ]
  },
  {
   "cell_type": "markdown",
   "metadata": {},
   "source": [
    "Images are returned with the shape of `(28, 28, 1)` so you need to reformat it to draw it with `plt`.\n",
    "- `np.squeeze(image)`\n",
    "- `image.reshape(28, 28)`"
   ]
  },
  {
   "cell_type": "code",
   "execution_count": 16,
   "metadata": {},
   "outputs": [
    {
     "data": {
      "image/png": "[encoded data removed]",
      "text/plain": [
       "<Figure size 576x576 with 4 Axes>"
      ]
     },
     "metadata": {
      "needs_background": "light"
     },
     "output_type": "display_data"
    }
   ],
   "source": [
    "fig, ax = plt.subplots(ncols=4, figsize=(8, 8))\n",
    "\n",
    "for i, image in enumerate(images):\n",
    "    ax[i].set_title(f\"Random {i}\")\n",
    "    ax[i].imshow(image.reshape(28, 28), cmap=\"pink\")\n",
    "    ax[i].axis(\"off\")"
   ]
  },
  {
   "cell_type": "markdown",
   "metadata": {},
   "source": [
    "### 3.3 Create Discriminator"
   ]
  },
  {
   "cell_type": "code",
   "execution_count": 17,
   "metadata": {},
   "outputs": [],
   "source": [
    "build_discriminator = lambda : Sequential([\n",
    "    # Convolutional block\n",
    "    layers.Conv2D(32, 5, input_shape=(28, 28, 1)),\n",
    "    layers.LeakyReLU(0.2),\n",
    "    layers.Dropout(0.4),\n",
    "\n",
    "    # Convolutional block\n",
    "    layers.Conv2D(64, 5),\n",
    "    layers.LeakyReLU(0.2),\n",
    "    layers.Dropout(0.4),\n",
    "\n",
    "    # Convolutional block\n",
    "    layers.Conv2D(128, 5),\n",
    "    layers.LeakyReLU(0.2),\n",
    "    layers.Dropout(0.4),\n",
    "\n",
    "    # Convolutional block\n",
    "    layers.Conv2D(256, 5),\n",
    "    layers.LeakyReLU(0.2),\n",
    "    layers.Dropout(0.4),\n",
    "\n",
    "    layers.Flatten(),\n",
    "    layers.Dropout(0.4),\n",
    "    layers.Dense(1, activation=\"sigmoid\")\n",
    "])"
   ]
  },
  {
   "cell_type": "code",
   "execution_count": 18,
   "metadata": {},
   "outputs": [
    {
     "name": "stdout",
     "output_type": "stream",
     "text": [
      "Model: \"sequential_1\"\n",
      "_________________________________________________________________\n",
      " Layer (type)                Output Shape              Param #   \n",
      "=================================================================\n",
      " conv2d_5 (Conv2D)           (None, 24, 24, 32)        832       \n",
      "                                                                 \n",
      " leaky_re_lu_5 (LeakyReLU)   (None, 24, 24, 32)        0         \n",
      "                                                                 \n",
      " dropout (Dropout)           (None, 24, 24, 32)        0         \n",
      "                                                                 \n",
      " conv2d_6 (Conv2D)           (None, 20, 20, 64)        51264     \n",
      "                                                                 \n",
      " leaky_re_lu_6 (LeakyReLU)   (None, 20, 20, 64)        0         \n",
      "                                                                 \n",
      " dropout_1 (Dropout)         (None, 20, 20, 64)        0         \n",
      "                                                                 \n",
      " conv2d_7 (Conv2D)           (None, 16, 16, 128)       204928    \n",
      "                                                                 \n",
      " leaky_re_lu_7 (LeakyReLU)   (None, 16, 16, 128)       0         \n",
      "                                                                 \n",
      " dropout_2 (Dropout)         (None, 16, 16, 128)       0         \n",
      "                                                                 \n",
      " conv2d_8 (Conv2D)           (None, 12, 12, 256)       819456    \n",
      "                                                                 \n",
      " leaky_re_lu_8 (LeakyReLU)   (None, 12, 12, 256)       0         \n",
      "                                                                 \n",
      " dropout_3 (Dropout)         (None, 12, 12, 256)       0         \n",
      "                                                                 \n",
      " flatten (Flatten)           (None, 36864)             0         \n",
      "                                                                 \n",
      " dropout_4 (Dropout)         (None, 36864)             0         \n",
      "                                                                 \n",
      " dense_1 (Dense)             (None, 1)                 36865     \n",
      "                                                                 \n",
      "=================================================================\n",
      "Total params: 1,113,345\n",
      "Trainable params: 1,113,345\n",
      "Non-trainable params: 0\n",
      "_________________________________________________________________\n"
     ]
    }
   ],
   "source": [
    "discriminator = build_discriminator()\n",
    "discriminator.summary()"
   ]
  },
  {
   "cell_type": "code",
   "execution_count": 19,
   "metadata": {},
   "outputs": [
    {
     "name": "stdout",
     "output_type": "stream",
     "text": [
      "1/1 [==============================] - 0s 106ms/step\n"
     ]
    },
    {
     "data": {
      "text/plain": [
       "array([[0.4973845 ],\n",
       "       [0.4974673 ],\n",
       "       [0.4973262 ],\n",
       "       [0.49732885]], dtype=float32)"
      ]
     },
     "execution_count": 19,
     "metadata": {},
     "output_type": "execute_result"
    }
   ],
   "source": [
    "discriminator.predict(images)"
   ]
  },
  {
   "cell_type": "markdown",
   "metadata": {},
   "source": [
    "## 4. Build Training Loop"
   ]
  },
  {
   "cell_type": "markdown",
   "metadata": {},
   "source": [
    "### 4.1 Setup Losses and Optimizers"
   ]
  },
  {
   "cell_type": "code",
   "execution_count": 20,
   "metadata": {},
   "outputs": [],
   "source": [
    "from tensorflow.keras.optimizers import Adam\n",
    "from tensorflow.keras.losses import BinaryCrossentropy"
   ]
  },
  {
   "cell_type": "code",
   "execution_count": 21,
   "metadata": {},
   "outputs": [],
   "source": [
    "g_opt = Adam(learning_rate=0.0001)\n",
    "d_opt = Adam(learning_rate=0.00001)\n",
    "g_loss = BinaryCrossentropy()\n",
    "d_loss = BinaryCrossentropy()"
   ]
  },
  {
   "cell_type": "markdown",
   "metadata": {},
   "source": [
    "### 4.2 Subclass Model"
   ]
  },
  {
   "cell_type": "code",
   "execution_count": 22,
   "metadata": {},
   "outputs": [],
   "source": [
    "from tensorflow.keras.models import Model"
   ]
  },
  {
   "cell_type": "code",
   "execution_count": 23,
   "metadata": {},
   "outputs": [],
   "source": [
    "class FashionGAN(Model):\n",
    "    def __init__(self, generator, discriminator, *args, **kwargs):\n",
    "        super().__init__(*args, **kwargs)\n",
    "\n",
    "        self.generator = generator\n",
    "        self.discriminator = discriminator\n",
    "\n",
    "    def compile(self, g_opt, d_opt, g_loss, d_loss, *args, **kwargs):\n",
    "        super().compile(*args, **kwargs)\n",
    "\n",
    "        self.g_opt = g_opt\n",
    "        self.d_opt = d_opt\n",
    "        self.g_loss = g_loss\n",
    "        self.d_loss = d_loss\n",
    "\n",
    "    def train_step(self, batch):\n",
    "        real_images = batch\n",
    "        fake_images = self.generator(tf.random.normal((128, 128, 1)), training=False)\n",
    "\n",
    "        # Train discriminator\n",
    "        with tf.GradientTape() as d_tape:\n",
    "            yhat_real = self.discriminator(real_images, training=True)\n",
    "            yhat_fake = self.discriminator(fake_images, training=True)\n",
    "            yhat_combined = tf.concat([yhat_real, yhat_fake], axis=0)\n",
    "\n",
    "            # True y values\n",
    "            # Real ones are 0 and fake ones are 1\n",
    "            y_combined = tf.concat([tf.zeros_like(yhat_real), tf.ones_like(yhat_fake)], axis=0)\n",
    "\n",
    "            # Add noise to outputs\n",
    "            noise_real = 0.15 * tf.random.uniform(tf.shape(yhat_real))\n",
    "            noise_fake = -0.15 * tf.random.uniform(tf.shape(yhat_fake))\n",
    "            y_combined += tf.concat([noise_real, noise_fake], axis=0)\n",
    "\n",
    "            # Calculate loss\n",
    "            d_loss = self.d_loss(y_combined, yhat_combined)\n",
    "\n",
    "        # Apply backpropagation\n",
    "        d_grad = d_tape.gradient(d_loss, self.discriminator.trainable_variables)\n",
    "        self.d_opt.apply_gradients(zip(d_grad, self.discriminator.trainable_variables))\n",
    "\n",
    "        # Train generator\n",
    "        with tf.GradientTape() as g_tape:\n",
    "            # Generate images\n",
    "            gen_images = self.generator(tf.random.normal((128, 128, 1)), training=True)\n",
    "\n",
    "            # Create predicted labels\n",
    "            predicted_labels = self.discriminator(gen_images, training=False)\n",
    "\n",
    "            # Calculate loss\n",
    "            # Rewards generator for fooling discriminator\n",
    "            g_loss = self.g_loss(tf.zeros_like(predicted_labels), predicted_labels)\n",
    "\n",
    "        # Apply backpropagation\n",
    "        g_grad = g_tape.gradient(g_loss, self.generator.trainable_variables)\n",
    "        self.g_opt.apply_gradients(zip(g_grad, self.generator.trainable_variables))\n",
    "\n",
    "        return {\n",
    "            \"d_loss\": d_loss,\n",
    "            \"g_loss\": g_loss\n",
    "        }"
   ]
  },
  {
   "cell_type": "code",
   "execution_count": 24,
   "metadata": {},
   "outputs": [],
   "source": [
    "fashion_gan = FashionGAN(generator, discriminator)\n",
    "fashion_gan.compile(g_opt, d_opt, g_loss, d_loss)"
   ]
  },
  {
   "cell_type": "markdown",
   "metadata": {},
   "source": [
    "### 4.3 Build Callback"
   ]
  },
  {
   "cell_type": "code",
   "execution_count": 25,
   "metadata": {},
   "outputs": [],
   "source": [
    "import os \n",
    "from tensorflow.keras.preprocessing.image import array_to_img\n",
    "from tensorflow.keras.callbacks import Callback"
   ]
  },
  {
   "cell_type": "code",
   "execution_count": 26,
   "metadata": {},
   "outputs": [],
   "source": [
    "class ModelMonitor(Callback):\n",
    "    def __init__(self, num_img=3, latent_dim=128):\n",
    "        self.num_img = num_img\n",
    "        self.latent_dim = latent_dim\n",
    "\n",
    "    def on_epoch_end(self, epoch, logs=None):\n",
    "        random_latent_vectors = tf.random.uniform((self.num_img, self.latent_dim, 1))\n",
    "        generated_images = (self.model.generator(random_latent_vectors) * 255).numpy()\n",
    "\n",
    "        # Save generated images\n",
    "        for i in range(self.num_img):\n",
    "            image = array_to_img(generated_images[i])\n",
    "            image.save(os.path.join(os.getcwd(), \"exports\", f\"fashion_gan_{epoch}_{i}.png\"))"
   ]
  },
  {
   "cell_type": "markdown",
   "metadata": {},
   "source": [
    "### 4.4 Train Model"
   ]
  },
  {
   "cell_type": "code",
   "execution_count": 27,
   "metadata": {},
   "outputs": [
    {
     "name": "stdout",
     "output_type": "stream",
     "text": [
      "Epoch 1/200\n",
      "1094/1094 [==============================] - 152s 136ms/step - d_loss: 0.6045 - g_loss: 0.9961\n",
      "Epoch 2/200\n",
      "1094/1094 [==============================] - 148s 135ms/step - d_loss: 0.6535 - g_loss: 0.8863\n",
      "Epoch 3/200\n",
      "1094/1094 [==============================] - 149s 136ms/step - d_loss: 0.6459 - g_loss: 0.9037\n",
      "Epoch 4/200\n",
      "1094/1094 [==============================] - 151s 138ms/step - d_loss: 0.6529 - g_loss: 0.8634\n",
      "Epoch 5/200\n",
      "1094/1094 [==============================] - 151s 138ms/step - d_loss: 0.6528 - g_loss: 0.8776\n",
      "Epoch 6/200\n",
      "1094/1094 [==============================] - 150s 137ms/step - d_loss: 0.6484 - g_loss: 0.8669\n",
      "Epoch 7/200\n",
      "1094/1094 [==============================] - 150s 137ms/step - d_loss: 0.6439 - g_loss: 0.8904\n",
      "Epoch 8/200\n",
      "1094/1094 [==============================] - 150s 137ms/step - d_loss: 0.5203 - g_loss: 0.5988\n",
      "Epoch 9/200\n",
      "1094/1094 [==============================] - 151s 138ms/step - d_loss: 0.3524 - g_loss: 0.0556\n",
      "Epoch 10/200\n",
      "1094/1094 [==============================] - 150s 137ms/step - d_loss: 0.6347 - g_loss: 0.8042\n",
      "Epoch 11/200\n",
      "1094/1094 [==============================] - 150s 137ms/step - d_loss: 0.5869 - g_loss: 0.5920\n",
      "Epoch 12/200\n",
      "1094/1094 [==============================] - 151s 138ms/step - d_loss: 0.6278 - g_loss: 0.7791\n",
      "Epoch 13/200\n",
      "1094/1094 [==============================] - 151s 138ms/step - d_loss: 0.5760 - g_loss: 0.6225\n",
      "Epoch 14/200\n",
      "1094/1094 [==============================] - 150s 137ms/step - d_loss: 0.5976 - g_loss: 0.7087\n",
      "Epoch 15/200\n",
      "1094/1094 [==============================] - 150s 137ms/step - d_loss: 0.2823 - g_loss: 2.6875\n",
      "Epoch 16/200\n",
      "1094/1094 [==============================] - 151s 138ms/step - d_loss: 0.2947 - g_loss: 0.8349\n",
      "Epoch 17/200\n",
      "1094/1094 [==============================] - 150s 137ms/step - d_loss: 0.2916 - g_loss: 0.1043\n",
      "Epoch 18/200\n",
      "1094/1094 [==============================] - 151s 138ms/step - d_loss: 0.5558 - g_loss: 0.4580\n",
      "Epoch 19/200\n",
      "1094/1094 [==============================] - 151s 138ms/step - d_loss: 0.5774 - g_loss: 0.6496\n",
      "Epoch 20/200\n",
      "1094/1094 [==============================] - 151s 138ms/step - d_loss: 0.5988 - g_loss: 0.6764\n",
      "Epoch 21/200\n",
      "1094/1094 [==============================] - 151s 138ms/step - d_loss: 0.6056 - g_loss: 0.6808\n",
      "Epoch 22/200\n",
      "1094/1094 [==============================] - 151s 138ms/step - d_loss: 0.6121 - g_loss: 0.7076\n",
      "Epoch 23/200\n",
      "1094/1094 [==============================] - 151s 138ms/step - d_loss: 0.6659 - g_loss: 0.8122\n",
      "Epoch 24/200\n",
      "1094/1094 [==============================] - 151s 138ms/step - d_loss: 0.6551 - g_loss: 0.8814\n",
      "Epoch 25/200\n",
      "1094/1094 [==============================] - 151s 138ms/step - d_loss: 0.6507 - g_loss: 0.8792\n",
      "Epoch 26/200\n",
      "1094/1094 [==============================] - 151s 138ms/step - d_loss: 0.6439 - g_loss: 0.8698\n",
      "Epoch 27/200\n",
      "1094/1094 [==============================] - 151s 138ms/step - d_loss: 0.6471 - g_loss: 0.9009\n",
      "Epoch 28/200\n",
      "1094/1094 [==============================] - 151s 138ms/step - d_loss: 0.6458 - g_loss: 0.8901\n",
      "Epoch 29/200\n",
      "1094/1094 [==============================] - 151s 138ms/step - d_loss: 0.6531 - g_loss: 0.8892\n",
      "Epoch 30/200\n",
      "1094/1094 [==============================] - 151s 138ms/step - d_loss: 0.6537 - g_loss: 0.8741\n",
      "Epoch 31/200\n",
      "1094/1094 [==============================] - 151s 138ms/step - d_loss: 0.6529 - g_loss: 0.9069\n",
      "Epoch 32/200\n",
      "1094/1094 [==============================] - 151s 138ms/step - d_loss: 0.6550 - g_loss: 0.9077\n",
      "Epoch 33/200\n",
      "1094/1094 [==============================] - 151s 138ms/step - d_loss: 0.6486 - g_loss: 0.9133\n",
      "Epoch 34/200\n",
      "1094/1094 [==============================] - 151s 138ms/step - d_loss: 0.6426 - g_loss: 0.8853\n",
      "Epoch 35/200\n",
      "1094/1094 [==============================] - 151s 138ms/step - d_loss: 0.6486 - g_loss: 0.9156\n",
      "Epoch 36/200\n",
      "1094/1094 [==============================] - 151s 138ms/step - d_loss: 0.6312 - g_loss: 0.9493\n",
      "Epoch 37/200\n",
      "1094/1094 [==============================] - 151s 138ms/step - d_loss: 0.6468 - g_loss: 0.9026\n",
      "Epoch 38/200\n",
      "1094/1094 [==============================] - 151s 138ms/step - d_loss: 0.6512 - g_loss: 0.9035\n",
      "Epoch 39/200\n",
      "1094/1094 [==============================] - 151s 138ms/step - d_loss: 0.6484 - g_loss: 0.9088\n",
      "Epoch 40/200\n",
      "1094/1094 [==============================] - 151s 138ms/step - d_loss: 0.6415 - g_loss: 0.9499\n",
      "Epoch 41/200\n",
      "1094/1094 [==============================] - 151s 138ms/step - d_loss: 0.6484 - g_loss: 0.9230\n",
      "Epoch 42/200\n",
      "1094/1094 [==============================] - 151s 138ms/step - d_loss: 0.6443 - g_loss: 0.9419\n",
      "Epoch 43/200\n",
      "1094/1094 [==============================] - 151s 138ms/step - d_loss: 0.6421 - g_loss: 0.9182\n",
      "Epoch 44/200\n",
      "1094/1094 [==============================] - 151s 138ms/step - d_loss: 0.6428 - g_loss: 0.9117\n",
      "Epoch 45/200\n",
      "1094/1094 [==============================] - 151s 138ms/step - d_loss: 0.6491 - g_loss: 0.8800\n",
      "Epoch 46/200\n",
      "1094/1094 [==============================] - 151s 138ms/step - d_loss: 0.6509 - g_loss: 0.9149\n",
      "Epoch 47/200\n",
      "1094/1094 [==============================] - 151s 138ms/step - d_loss: 0.6497 - g_loss: 0.9082\n",
      "Epoch 48/200\n",
      "1094/1094 [==============================] - 151s 138ms/step - d_loss: 0.6522 - g_loss: 0.9165\n",
      "Epoch 49/200\n",
      "1094/1094 [==============================] - 151s 138ms/step - d_loss: 0.6462 - g_loss: 0.9346\n",
      "Epoch 50/200\n",
      "1094/1094 [==============================] - 151s 138ms/step - d_loss: 0.6540 - g_loss: 0.9251\n",
      "Epoch 51/200\n",
      "1094/1094 [==============================] - 151s 138ms/step - d_loss: 0.6411 - g_loss: 0.9561\n",
      "Epoch 52/200\n",
      "1094/1094 [==============================] - 151s 138ms/step - d_loss: 0.6561 - g_loss: 0.9142\n",
      "Epoch 53/200\n",
      "1094/1094 [==============================] - 151s 138ms/step - d_loss: 0.6516 - g_loss: 0.9399\n",
      "Epoch 54/200\n",
      "1094/1094 [==============================] - 151s 138ms/step - d_loss: 0.6466 - g_loss: 0.9462\n",
      "Epoch 55/200\n",
      "1094/1094 [==============================] - 151s 138ms/step - d_loss: 0.6545 - g_loss: 0.9281\n",
      "Epoch 56/200\n",
      "1094/1094 [==============================] - 151s 138ms/step - d_loss: 0.6422 - g_loss: 0.9558\n",
      "Epoch 57/200\n",
      "1094/1094 [==============================] - 151s 138ms/step - d_loss: 0.6524 - g_loss: 0.9271\n",
      "Epoch 58/200\n",
      "1094/1094 [==============================] - 151s 138ms/step - d_loss: 0.6519 - g_loss: 0.9348\n",
      "Epoch 59/200\n",
      "1094/1094 [==============================] - 153s 140ms/step - d_loss: 0.4790 - g_loss: 0.7524\n",
      "Epoch 60/200\n",
      "1094/1094 [==============================] - 152s 139ms/step - d_loss: 0.6463 - g_loss: 0.9283\n",
      "Epoch 61/200\n",
      "1094/1094 [==============================] - 154s 141ms/step - d_loss: 0.6387 - g_loss: 0.8860\n",
      "Epoch 62/200\n",
      "1094/1094 [==============================] - 153s 140ms/step - d_loss: 0.3249 - g_loss: 2.5165\n",
      "Epoch 63/200\n",
      "1094/1094 [==============================] - 153s 140ms/step - d_loss: 0.2957 - g_loss: 2.0141\n",
      "Epoch 64/200\n",
      "1094/1094 [==============================] - 153s 140ms/step - d_loss: 0.3910 - g_loss: 0.5233\n",
      "Epoch 65/200\n",
      "1094/1094 [==============================] - 154s 140ms/step - d_loss: 0.5529 - g_loss: 0.7714\n",
      "Epoch 66/200\n",
      "1094/1094 [==============================] - 154s 140ms/step - d_loss: 0.6337 - g_loss: 0.9040\n",
      "Epoch 67/200\n",
      "1094/1094 [==============================] - 153s 140ms/step - d_loss: 0.6380 - g_loss: 0.9147\n",
      "Epoch 68/200\n",
      "1094/1094 [==============================] - 150s 137ms/step - d_loss: 0.6489 - g_loss: 0.9340\n",
      "Epoch 69/200\n",
      "1094/1094 [==============================] - 150s 137ms/step - d_loss: 0.6343 - g_loss: 0.9819\n",
      "Epoch 70/200\n",
      "1094/1094 [==============================] - 152s 139ms/step - d_loss: 0.6128 - g_loss: 0.9391\n",
      "Epoch 71/200\n",
      "1094/1094 [==============================] - 152s 139ms/step - d_loss: 0.6357 - g_loss: 0.9195\n",
      "Epoch 72/200\n",
      "1094/1094 [==============================] - 151s 138ms/step - d_loss: 0.6535 - g_loss: 0.9006\n",
      "Epoch 73/200\n",
      "1094/1094 [==============================] - 150s 137ms/step - d_loss: 0.6483 - g_loss: 0.9140\n",
      "Epoch 74/200\n",
      "1094/1094 [==============================] - 150s 138ms/step - d_loss: 0.5967 - g_loss: 1.1578\n",
      "Epoch 75/200\n",
      "1094/1094 [==============================] - 150s 138ms/step - d_loss: 0.2717 - g_loss: 2.6671\n",
      "Epoch 76/200\n",
      "1094/1094 [==============================] - 151s 138ms/step - d_loss: 0.2688 - g_loss: 2.7015\n",
      "Epoch 77/200\n",
      "1094/1094 [==============================] - 152s 139ms/step - d_loss: 0.3750 - g_loss: 2.0714\n",
      "Epoch 78/200\n",
      "1094/1094 [==============================] - 152s 139ms/step - d_loss: 0.6448 - g_loss: 0.9470\n",
      "Epoch 79/200\n",
      "1094/1094 [==============================] - 152s 139ms/step - d_loss: 0.6360 - g_loss: 0.9780\n",
      "Epoch 80/200\n",
      "1094/1094 [==============================] - 152s 139ms/step - d_loss: 0.6377 - g_loss: 0.9613\n",
      "Epoch 81/200\n",
      "1094/1094 [==============================] - 152s 139ms/step - d_loss: 0.6419 - g_loss: 0.9677\n",
      "Epoch 82/200\n",
      "1094/1094 [==============================] - 152s 139ms/step - d_loss: 0.6179 - g_loss: 1.0052\n",
      "Epoch 83/200\n",
      "1094/1094 [==============================] - 152s 139ms/step - d_loss: 0.6346 - g_loss: 0.9853\n",
      "Epoch 84/200\n",
      "1094/1094 [==============================] - 152s 139ms/step - d_loss: 0.6144 - g_loss: 0.9949\n",
      "Epoch 85/200\n",
      "1094/1094 [==============================] - 152s 139ms/step - d_loss: 0.6113 - g_loss: 1.0116\n",
      "Epoch 86/200\n",
      "1094/1094 [==============================] - 152s 139ms/step - d_loss: 0.6399 - g_loss: 0.9672\n",
      "Epoch 87/200\n",
      "1094/1094 [==============================] - 168s 154ms/step - d_loss: 0.6468 - g_loss: 0.9562\n",
      "Epoch 88/200\n",
      "1094/1094 [==============================] - 241s 220ms/step - d_loss: 0.6305 - g_loss: 1.0086\n",
      "Epoch 89/200\n",
      "1094/1094 [==============================] - 220s 201ms/step - d_loss: 0.6178 - g_loss: 1.0341\n",
      "Epoch 90/200\n",
      "1094/1094 [==============================] - 150s 137ms/step - d_loss: 0.6073 - g_loss: 1.0857\n",
      "Epoch 91/200\n",
      "1094/1094 [==============================] - 151s 138ms/step - d_loss: 0.6443 - g_loss: 0.9463\n",
      "Epoch 92/200\n",
      "1094/1094 [==============================] - 151s 138ms/step - d_loss: 0.6498 - g_loss: 0.9582\n",
      "Epoch 93/200\n",
      "1094/1094 [==============================] - 151s 138ms/step - d_loss: 0.6377 - g_loss: 0.9699\n",
      "Epoch 94/200\n",
      "1094/1094 [==============================] - 207s 189ms/step - d_loss: 0.6000 - g_loss: 1.0854\n",
      "Epoch 95/200\n",
      "1094/1094 [==============================] - 237s 216ms/step - d_loss: 0.6472 - g_loss: 0.9135\n",
      "Epoch 96/200\n",
      "1094/1094 [==============================] - 162s 148ms/step - d_loss: 0.6218 - g_loss: 0.9890\n",
      "Epoch 97/200\n",
      "1094/1094 [==============================] - 151s 138ms/step - d_loss: 0.6278 - g_loss: 0.9592\n",
      "Epoch 98/200\n",
      "1094/1094 [==============================] - 151s 138ms/step - d_loss: 0.6135 - g_loss: 0.9807\n",
      "Epoch 99/200\n",
      "1094/1094 [==============================] - 150s 137ms/step - d_loss: 0.6116 - g_loss: 1.0212\n",
      "Epoch 100/200\n",
      "1094/1094 [==============================] - 150s 137ms/step - d_loss: 0.6257 - g_loss: 0.9947\n",
      "Epoch 101/200\n",
      "1094/1094 [==============================] - 206s 188ms/step - d_loss: 0.6375 - g_loss: 0.9533\n",
      "Epoch 102/200\n",
      "1094/1094 [==============================] - 236s 216ms/step - d_loss: 0.6144 - g_loss: 1.0370\n",
      "Epoch 103/200\n",
      "1094/1094 [==============================] - 162s 148ms/step - d_loss: 0.6291 - g_loss: 0.9901\n",
      "Epoch 104/200\n",
      "1094/1094 [==============================] - 151s 138ms/step - d_loss: 0.6429 - g_loss: 0.9515\n",
      "Epoch 105/200\n",
      "1094/1094 [==============================] - 151s 138ms/step - d_loss: 0.6228 - g_loss: 0.9727\n",
      "Epoch 106/200\n",
      "1094/1094 [==============================] - 151s 138ms/step - d_loss: 0.6105 - g_loss: 1.0454\n",
      "Epoch 107/200\n",
      "1094/1094 [==============================] - 188s 172ms/step - d_loss: 0.6234 - g_loss: 0.9917\n",
      "Epoch 108/200\n",
      "1094/1094 [==============================] - 237s 217ms/step - d_loss: 0.6269 - g_loss: 0.9521\n",
      "Epoch 109/200\n",
      "1094/1094 [==============================] - 178s 162ms/step - d_loss: 0.6404 - g_loss: 0.9700\n",
      "Epoch 110/200\n",
      "1094/1094 [==============================] - 151s 138ms/step - d_loss: 0.6120 - g_loss: 1.0321\n",
      "Epoch 111/200\n",
      "1094/1094 [==============================] - 152s 139ms/step - d_loss: 0.6039 - g_loss: 0.9761\n",
      "Epoch 112/200\n",
      "1094/1094 [==============================] - 152s 139ms/step - d_loss: 0.6329 - g_loss: 0.9623\n",
      "Epoch 113/200\n",
      "1094/1094 [==============================] - 152s 139ms/step - d_loss: 0.6016 - g_loss: 1.0298\n",
      "Epoch 114/200\n",
      "1094/1094 [==============================] - 152s 139ms/step - d_loss: 0.6395 - g_loss: 0.9186\n",
      "Epoch 115/200\n",
      "1094/1094 [==============================] - 152s 139ms/step - d_loss: 0.5812 - g_loss: 1.0086\n",
      "Epoch 116/200\n",
      "1094/1094 [==============================] - 152s 139ms/step - d_loss: 0.6180 - g_loss: 1.0246\n",
      "Epoch 117/200\n",
      "1094/1094 [==============================] - 152s 139ms/step - d_loss: 0.6298 - g_loss: 0.9708\n",
      "Epoch 118/200\n",
      "1094/1094 [==============================] - 152s 139ms/step - d_loss: 0.5880 - g_loss: 1.0267\n",
      "Epoch 119/200\n",
      "1094/1094 [==============================] - 152s 139ms/step - d_loss: 0.6292 - g_loss: 0.9729\n",
      "Epoch 120/200\n",
      "1094/1094 [==============================] - 152s 139ms/step - d_loss: 0.5735 - g_loss: 1.1165\n",
      "Epoch 121/200\n",
      "1094/1094 [==============================] - 152s 139ms/step - d_loss: 0.6101 - g_loss: 1.0053\n",
      "Epoch 122/200\n",
      "1094/1094 [==============================] - 152s 139ms/step - d_loss: 0.5673 - g_loss: 1.0772\n",
      "Epoch 123/200\n",
      "1094/1094 [==============================] - 152s 139ms/step - d_loss: 0.5619 - g_loss: 1.0686\n",
      "Epoch 124/200\n",
      "1094/1094 [==============================] - 153s 139ms/step - d_loss: 0.5516 - g_loss: 1.1210\n",
      "Epoch 125/200\n",
      "1094/1094 [==============================] - 152s 139ms/step - d_loss: 0.6169 - g_loss: 0.9927\n",
      "Epoch 126/200\n",
      "1094/1094 [==============================] - 152s 139ms/step - d_loss: 0.6352 - g_loss: 1.0029\n",
      "Epoch 127/200\n",
      "1094/1094 [==============================] - 152s 139ms/step - d_loss: 0.5964 - g_loss: 1.0518\n",
      "Epoch 128/200\n",
      "1094/1094 [==============================] - 152s 139ms/step - d_loss: 0.6231 - g_loss: 1.0216\n",
      "Epoch 129/200\n",
      "1094/1094 [==============================] - 210s 192ms/step - d_loss: 0.6110 - g_loss: 1.0217\n",
      "Epoch 130/200\n",
      "1094/1094 [==============================] - 237s 216ms/step - d_loss: 0.5949 - g_loss: 1.1182\n",
      "Epoch 131/200\n",
      "1094/1094 [==============================] - 173s 159ms/step - d_loss: 0.5905 - g_loss: 1.0827\n",
      "Epoch 132/200\n",
      "1094/1094 [==============================] - 151s 138ms/step - d_loss: 0.6065 - g_loss: 1.0281\n",
      "Epoch 133/200\n",
      "1094/1094 [==============================] - 153s 140ms/step - d_loss: 0.6199 - g_loss: 0.9805\n",
      "Epoch 134/200\n",
      "1094/1094 [==============================] - 154s 141ms/step - d_loss: 0.5929 - g_loss: 1.1086\n",
      "Epoch 135/200\n",
      "1094/1094 [==============================] - 152s 139ms/step - d_loss: 0.5759 - g_loss: 1.0747\n",
      "Epoch 136/200\n",
      "1094/1094 [==============================] - 151s 138ms/step - d_loss: 0.5573 - g_loss: 1.1828\n",
      "Epoch 137/200\n",
      "1094/1094 [==============================] - 151s 138ms/step - d_loss: 0.5920 - g_loss: 1.0520\n",
      "Epoch 138/200\n",
      "1094/1094 [==============================] - 150s 138ms/step - d_loss: 0.6025 - g_loss: 1.0094\n",
      "Epoch 139/200\n",
      "1094/1094 [==============================] - 151s 138ms/step - d_loss: 0.5528 - g_loss: 1.1647\n",
      "Epoch 140/200\n",
      "1094/1094 [==============================] - 151s 138ms/step - d_loss: 0.5669 - g_loss: 1.1347\n",
      "Epoch 141/200\n",
      "1094/1094 [==============================] - 151s 138ms/step - d_loss: 0.5948 - g_loss: 1.0688\n",
      "Epoch 142/200\n",
      "1094/1094 [==============================] - 151s 138ms/step - d_loss: 0.5839 - g_loss: 1.0852\n",
      "Epoch 143/200\n",
      "1094/1094 [==============================] - 152s 139ms/step - d_loss: 0.5991 - g_loss: 1.1141\n",
      "Epoch 144/200\n",
      "1094/1094 [==============================] - 153s 140ms/step - d_loss: 0.5755 - g_loss: 1.0946\n",
      "Epoch 145/200\n",
      "1094/1094 [==============================] - 193s 177ms/step - d_loss: 0.5636 - g_loss: 1.1115\n",
      "Epoch 146/200\n",
      "1094/1094 [==============================] - 239s 218ms/step - d_loss: 0.5429 - g_loss: 1.1849\n",
      "Epoch 147/200\n",
      "1094/1094 [==============================] - 163s 149ms/step - d_loss: 0.5491 - g_loss: 1.1501\n",
      "Epoch 148/200\n",
      "1094/1094 [==============================] - 150s 137ms/step - d_loss: 0.5389 - g_loss: 1.1953\n",
      "Epoch 149/200\n",
      "1094/1094 [==============================] - 150s 137ms/step - d_loss: 0.5872 - g_loss: 1.1238\n",
      "Epoch 150/200\n",
      "1094/1094 [==============================] - 150s 137ms/step - d_loss: 0.5398 - g_loss: 1.3234\n",
      "Epoch 151/200\n",
      "1094/1094 [==============================] - 150s 137ms/step - d_loss: 0.5512 - g_loss: 1.1660\n",
      "Epoch 152/200\n",
      "1094/1094 [==============================] - 150s 137ms/step - d_loss: 0.5707 - g_loss: 1.0454\n",
      "Epoch 153/200\n",
      "1094/1094 [==============================] - 150s 137ms/step - d_loss: 0.5777 - g_loss: 1.1665\n",
      "Epoch 154/200\n",
      "1094/1094 [==============================] - 150s 137ms/step - d_loss: 0.5896 - g_loss: 1.0656\n",
      "Epoch 155/200\n",
      "1094/1094 [==============================] - 150s 138ms/step - d_loss: 0.4804 - g_loss: 1.6089\n",
      "Epoch 156/200\n",
      "1094/1094 [==============================] - 150s 137ms/step - d_loss: 0.4454 - g_loss: 1.7406\n",
      "Epoch 157/200\n",
      "1094/1094 [==============================] - 151s 138ms/step - d_loss: 0.5535 - g_loss: 1.3342\n",
      "Epoch 158/200\n",
      "1094/1094 [==============================] - 150s 137ms/step - d_loss: 0.5695 - g_loss: 1.1908\n",
      "Epoch 159/200\n",
      "1094/1094 [==============================] - 150s 137ms/step - d_loss: 0.5856 - g_loss: 1.1342\n",
      "Epoch 160/200\n",
      "1094/1094 [==============================] - 151s 138ms/step - d_loss: 0.5585 - g_loss: 1.1525\n",
      "Epoch 161/200\n",
      "1094/1094 [==============================] - 151s 138ms/step - d_loss: 0.5724 - g_loss: 1.1423\n",
      "Epoch 162/200\n",
      "1094/1094 [==============================] - 151s 138ms/step - d_loss: 0.5937 - g_loss: 1.1283\n",
      "Epoch 163/200\n",
      "1094/1094 [==============================] - 151s 138ms/step - d_loss: 0.5408 - g_loss: 1.1619\n",
      "Epoch 164/200\n",
      "1094/1094 [==============================] - 150s 137ms/step - d_loss: 0.5662 - g_loss: 1.2131\n",
      "Epoch 165/200\n",
      "1094/1094 [==============================] - 151s 138ms/step - d_loss: 0.5202 - g_loss: 1.1911\n",
      "Epoch 166/200\n",
      "1094/1094 [==============================] - 152s 139ms/step - d_loss: 0.5685 - g_loss: 1.2108\n",
      "Epoch 167/200\n",
      "1094/1094 [==============================] - 150s 137ms/step - d_loss: 0.6055 - g_loss: 1.0439\n",
      "Epoch 168/200\n",
      "1094/1094 [==============================] - 150s 138ms/step - d_loss: 0.5034 - g_loss: 1.3086\n",
      "Epoch 169/200\n",
      "1094/1094 [==============================] - 150s 138ms/step - d_loss: 0.5412 - g_loss: 1.2054\n",
      "Epoch 170/200\n",
      "1094/1094 [==============================] - 150s 137ms/step - d_loss: 0.4873 - g_loss: 1.3480\n",
      "Epoch 171/200\n",
      "1094/1094 [==============================] - 150s 138ms/step - d_loss: 0.5645 - g_loss: 1.1907\n",
      "Epoch 172/200\n",
      "1094/1094 [==============================] - 150s 138ms/step - d_loss: 0.5364 - g_loss: 1.2546\n",
      "Epoch 173/200\n",
      "1094/1094 [==============================] - 150s 137ms/step - d_loss: 0.6039 - g_loss: 1.0296\n",
      "Epoch 174/200\n",
      "1094/1094 [==============================] - 150s 138ms/step - d_loss: 0.5474 - g_loss: 1.2428\n",
      "Epoch 175/200\n",
      "1094/1094 [==============================] - 150s 137ms/step - d_loss: 0.5534 - g_loss: 1.2129\n",
      "Epoch 176/200\n",
      "1094/1094 [==============================] - 152s 139ms/step - d_loss: 0.5913 - g_loss: 1.2074\n",
      "Epoch 177/200\n",
      "1094/1094 [==============================] - 150s 137ms/step - d_loss: 0.5731 - g_loss: 1.1514\n",
      "Epoch 178/200\n",
      "1094/1094 [==============================] - 150s 137ms/step - d_loss: 0.6042 - g_loss: 1.0781\n",
      "Epoch 179/200\n",
      "1094/1094 [==============================] - 150s 137ms/step - d_loss: 0.5662 - g_loss: 1.1324\n",
      "Epoch 180/200\n",
      "1094/1094 [==============================] - 153s 140ms/step - d_loss: 0.4352 - g_loss: 1.8995\n",
      "Epoch 181/200\n",
      "1094/1094 [==============================] - 216s 197ms/step - d_loss: 0.5341 - g_loss: 1.3764\n",
      "Epoch 182/200\n",
      "1094/1094 [==============================] - 239s 219ms/step - d_loss: 0.5282 - g_loss: 1.3358\n",
      "Epoch 183/200\n",
      "1094/1094 [==============================] - 247s 226ms/step - d_loss: 0.4932 - g_loss: 1.4657\n",
      "Epoch 184/200\n",
      "1094/1094 [==============================] - 223s 203ms/step - d_loss: 0.5974 - g_loss: 1.2350\n",
      "Epoch 185/200\n",
      "1094/1094 [==============================] - 243s 222ms/step - d_loss: 0.3205 - g_loss: 1.8237\n",
      "Epoch 186/200\n",
      "1094/1094 [==============================] - 267s 244ms/step - d_loss: 0.5146 - g_loss: 1.2405\n",
      "Epoch 187/200\n",
      "1094/1094 [==============================] - 251s 230ms/step - d_loss: 0.5529 - g_loss: 1.2736\n",
      "Epoch 188/200\n",
      "1094/1094 [==============================] - 266s 243ms/step - d_loss: 0.5459 - g_loss: 1.3012\n",
      "Epoch 189/200\n",
      "1094/1094 [==============================] - 221s 202ms/step - d_loss: 0.5103 - g_loss: 1.3484\n",
      "Epoch 190/200\n",
      "1094/1094 [==============================] - 220s 201ms/step - d_loss: 0.5781 - g_loss: 1.1011\n",
      "Epoch 191/200\n",
      "1094/1094 [==============================] - 243s 222ms/step - d_loss: 0.5444 - g_loss: 1.2306\n",
      "Epoch 192/200\n",
      "1094/1094 [==============================] - 271s 248ms/step - d_loss: 0.6380 - g_loss: 0.9006\n",
      "Epoch 193/200\n",
      "1094/1094 [==============================] - 179s 164ms/step - d_loss: 0.6504 - g_loss: 0.9098\n",
      "Epoch 194/200\n",
      "1094/1094 [==============================] - 151s 138ms/step - d_loss: 0.6455 - g_loss: 0.9107\n",
      "Epoch 195/200\n",
      "1094/1094 [==============================] - 153s 140ms/step - d_loss: 0.6479 - g_loss: 0.9228\n",
      "Epoch 196/200\n",
      "1094/1094 [==============================] - 154s 141ms/step - d_loss: 0.6301 - g_loss: 0.9428\n",
      "Epoch 197/200\n",
      "1094/1094 [==============================] - 153s 140ms/step - d_loss: 0.6265 - g_loss: 1.0043\n",
      "Epoch 198/200\n",
      "1094/1094 [==============================] - 154s 141ms/step - d_loss: 0.4112 - g_loss: 2.0630\n",
      "Epoch 199/200\n",
      "1094/1094 [==============================] - 153s 140ms/step - d_loss: 0.6385 - g_loss: 0.9418\n",
      "Epoch 200/200\n",
      "1094/1094 [==============================] - 155s 142ms/step - d_loss: 0.6139 - g_loss: 0.9592\n"
     ]
    }
   ],
   "source": [
    "history = fashion_gan.fit(ds_scaled, epochs=200, callbacks=[ModelMonitor()])"
   ]
  },
  {
   "cell_type": "markdown",
   "metadata": {},
   "source": [
    "## 5. Evaluate Model"
   ]
  },
  {
   "cell_type": "markdown",
   "metadata": {},
   "source": [
    "### 5.1 Visualize Training"
   ]
  },
  {
   "cell_type": "code",
   "execution_count": 28,
   "metadata": {},
   "outputs": [
    {
     "data": {
      "image/png": "[encoded data removed]",
      "text/plain": [
       "<Figure size 432x288 with 1 Axes>"
      ]
     },
     "metadata": {
      "needs_background": "light"
     },
     "output_type": "display_data"
    }
   ],
   "source": [
    "plt.title(\"Loss\")\n",
    "plt.plot(history.history[\"d_loss\"], label=\"d_loss\")\n",
    "plt.plot(history.history[\"g_loss\"], label=\"g_loss\")\n",
    "plt.legend()\n",
    "plt.show()"
   ]
  },
  {
   "cell_type": "markdown",
   "metadata": {},
   "source": [
    "### 5.2 Generate Images"
   ]
  },
  {
   "cell_type": "code",
   "execution_count": 42,
   "metadata": {},
   "outputs": [
    {
     "name": "stdout",
     "output_type": "stream",
     "text": [
      "1/1 [==============================] - 0s 21ms/step\n"
     ]
    },
    {
     "data": {
      "image/png": "[encoded data removed]",
      "text/plain": [
       "<Figure size 720x720 with 16 Axes>"
      ]
     },
     "metadata": {
      "needs_background": "light"
     },
     "output_type": "display_data"
    }
   ],
   "source": [
    "gen_images = fashion_gan.generator.predict(tf.random.normal((16, 128, 1)))\n",
    "\n",
    "fig, ax = plt.subplots(nrows=4, ncols=4, figsize=(10, 10))\n",
    "for r in range(4):\n",
    "    for c in range(4):\n",
    "        ax[r][c].imshow(np.squeeze(gen_images[(r + 1) * (c + 1) - 1]), cmap=\"pink\")"
   ]
  },
  {
   "cell_type": "markdown",
   "metadata": {},
   "source": [
    "### 5.3 Save Model"
   ]
  },
  {
   "cell_type": "code",
   "execution_count": 35,
   "metadata": {},
   "outputs": [
    {
     "name": "stdout",
     "output_type": "stream",
     "text": [
      "WARNING:tensorflow:Compiled the loaded model, but the compiled metrics have yet to be built. `model.compile_metrics` will be empty until you train or evaluate the model.\n",
      "WARNING:tensorflow:Compiled the loaded model, but the compiled metrics have yet to be built. `model.compile_metrics` will be empty until you train or evaluate the model.\n"
     ]
    }
   ],
   "source": [
    "fashion_gan.generator.save(\"models/clothing_generator.h5\")\n",
    "fashion_gan.discriminator.save(\"models/clothing_discriminator.h5\")"
   ]
  },
  {
   "cell_type": "markdown",
   "metadata": {},
   "source": [
    "### 5.4 Compile Exports into GIF"
   ]
  },
  {
   "cell_type": "code",
   "execution_count": 46,
   "metadata": {},
   "outputs": [],
   "source": [
    "from os import listdir\n",
    "from PIL import Image"
   ]
  },
  {
   "cell_type": "code",
   "execution_count": 47,
   "metadata": {},
   "outputs": [
    {
     "data": {
      "text/plain": [
       "'fashion_gan_0_0.png'"
      ]
     },
     "execution_count": 47,
     "metadata": {},
     "output_type": "execute_result"
    }
   ],
   "source": [
    "images = listdir(\"exports\")\n",
    "images[0]"
   ]
  },
  {
   "cell_type": "code",
   "execution_count": 53,
   "metadata": {},
   "outputs": [],
   "source": [
    "image, *images = (Image.open(os.path.join(os.getcwd(), \"exports\", file)) for file in sorted(images))\n",
    "image.save(fp=\"1_clothing_generator.gif\", format=\"GIF\", append_images=images, save_all=True, duration=100, loop=0)"
   ]
  }
 ],
 "metadata": {
  "kernelspec": {
   "display_name": "Python 3.9.7 ('base')",
   "language": "python",
   "name": "python3"
  },
  "language_info": {
   "codemirror_mode": {
    "name": "ipython",
    "version": 3
   },
   "file_extension": ".py",
   "mimetype": "text/x-python",
   "name": "python",
   "nbconvert_exporter": "python",
   "pygments_lexer": "ipython3",
   "version": "3.9.7"
  },
  "orig_nbformat": 4,
  "vscode": {
   "interpreter": {
    "hash": "ad2bdc8ecc057115af97d19610ffacc2b4e99fae6737bb82f5d7fb13d2f2c186"
   }
  }
 },
 "nbformat": 4,
 "nbformat_minor": 2
}
